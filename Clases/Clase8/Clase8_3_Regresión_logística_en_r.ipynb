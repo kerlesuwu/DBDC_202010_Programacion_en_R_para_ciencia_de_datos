{
  "nbformat": 4,
  "nbformat_minor": 0,
  "metadata": {
    "colab": {
      "name": "Clase8_3_Regresión_logística_en_r.ipynb",
      "provenance": [],
      "collapsed_sections": [],
      "include_colab_link": true
    },
    "kernelspec": {
      "name": "ir",
      "display_name": "R"
    }
  },
  "cells": [
    {
      "cell_type": "markdown",
      "metadata": {
        "id": "view-in-github",
        "colab_type": "text"
      },
      "source": [
        "<a href=\"https://colab.research.google.com/github/majorquev/DBDC_202010_Programacion_en_R_para_ciencia_de_datos/blob/main/Clases/Clase8/Clase8_3_Regresi%C3%B3n_log%C3%ADstica_en_r.ipynb\" target=\"_parent\"><img src=\"https://colab.research.google.com/assets/colab-badge.svg\" alt=\"Open In Colab\"/></a>"
      ]
    },
    {
      "cell_type": "markdown",
      "metadata": {
        "collapsed": true,
        "id": "eRf0uO0DHQEI"
      },
      "source": [
        "# Parte 9: Regresión logística en R\n",
        "\n",
        "**Autor:** Miguel Jorquera Viguera.<br>\n",
        "**E-mail:** majorquev@gmail.com<br>\n",
        "**Ayudante:** Jorge Arévalo Labarca<br>\n",
        "**E-mail ayudante:** jorge.arevalol@usach.cl\n",
        "\n",
        "Si nuestro interés no es una variable cuantitativa, si no más bien categórica, una regresión lineal no es adecuado.\n",
        "Por ejemplo, supongamos que nos interesa saber si una persona quedará en “default” (no terminará de pagar la deuda de su tarjeta de crédito), en función de atributos como su ingreso, nivel de deuda y si es estudiante o no.\n",
        "Para tal efecto nos interesa modelar entonces la probabilidad de caer en “default”. Para modelar dicha probabilidad, es posible especificar una dependencia lineal entre una \"función\" de la probabilidad a estimar, en términos de una  combinación lineal de las variables explciativas. Tal función se denomina _función de enlace_, la que en el caso de la regresión logística tradicional, corresponde al _logaritmo de la chance_ del evento a estudiar. Esta especificación del modelo matemático se muestra a continuación.\n",
        "\n",
        "\n",
        "## Especificación matemática del modelo\n",
        "\n",
        "En el caso de la regresión logística, lo que se suele modelar linealmente es el logaritmo de la chance del vento de interés, donde la chance es simplemente la reazón entre la probabilidad de que ocurra el evento y la probabilidad de que no ocurra.\n",
        "\n",
        "$$\\log\\left(\\dfrac{P(Y=1 | \\mathbf{X} = \\mathbf{x})}{1- P(Y=1 | \\mathbf{X} = \\mathbf{x})}\\right) = \\beta_0 + \\beta_1 X_1 + \\dots + \\beta_pX_p$$\n",
        "\n",
        "Bajo esta especificación es posible estimar los parámetros mediante mínimos cuadrados ponderados.\n",
        "\n",
        "## En R\n",
        "\n",
        "En R la cosa es más fácil y no necesitamos tanta escritura matemática para ajustar un regresión logística, lo cual lo podemos llevar a cabo con la función `glm()`, cuya documentación podemos consultar.\n",
        "\n",
        "\n",
        "Pongamos en práctica lo onversado en clases con el siguiente ejemplo.\n",
        "\n",
        "### Dataset _default_\n",
        "\n",
        "Para nuestro primer modelo logístico, cosideraremos el dataset _default_ el cual consta de una simulación de 200 registros que representa la información bancaria de 200 clientes. La información que contiene este dataset corresponde a  : \n",
        "\n",
        " * `default`: Variable que indica si el cliente quedó ene stado de dafault (\"Yes\") o no (\"No\").\n",
        " * `income`: Ingreso promedio del cliente en una dererminada ventana de tiempo.\n",
        " * `student`: Variable que indica si el cliente es estudiante o no.\n",
        " * `balance`: Monto adeudado posterior al último pago de cuenta.\n",
        " \n",
        " \n",
        " "
      ]
    },
    {
      "cell_type": "code",
      "metadata": {
        "trusted": true,
        "id": "d1UBCv8THQEO"
      },
      "source": [
        "library(dplyr)"
      ],
      "execution_count": null,
      "outputs": []
    },
    {
      "cell_type": "code",
      "metadata": {
        "trusted": true,
        "id": "JRas3rH9HQEQ"
      },
      "source": [
        "data <- read.csv(\"default.csv\")\n",
        "data <- data %>%\n",
        "    mutate(Y = ifelse(default == \"Yes\",1,0))"
      ],
      "execution_count": null,
      "outputs": []
    },
    {
      "cell_type": "code",
      "metadata": {
        "trusted": true,
        "id": "TX4R9KEVHQEQ"
      },
      "source": [
        "head(data)\n",
        "tail(data)"
      ],
      "execution_count": null,
      "outputs": []
    },
    {
      "cell_type": "code",
      "metadata": {
        "trusted": true,
        "id": "F5xgVwg-HQER"
      },
      "source": [
        "# Consideremos el modelo que incluye sólo el ingreso\n",
        "\n",
        "mod1 <- glm(Y ~ income +balance + student,\n",
        "          family = binomial(link = \"logit\"),\n",
        "          data = data)\n",
        "\n",
        "# Veamos un resumen del modelo"
      ],
      "execution_count": null,
      "outputs": []
    },
    {
      "cell_type": "code",
      "metadata": {
        "trusted": true,
        "id": "pvA9y6oZHQER"
      },
      "source": [
        "summary(mod1)"
      ],
      "execution_count": null,
      "outputs": []
    },
    {
      "cell_type": "code",
      "metadata": {
        "trusted": true,
        "id": "C_rohVYBHQES"
      },
      "source": [
        "# Podemos generar predicciones con la función predict()\n",
        "# Con el argumento type, controlamos el tipo de predicción a generar\n",
        "    # response: para la probabilidad de Y = 1\n",
        "    # terms: Combinación lineal de los predictores, con los coeficientes estimados. Se centran las variables con media 0.\n",
        "    # link: Logaritmo de la chance (la evaluación del modelo linal).\n",
        "\n",
        "new <- data.frame(income = c(44361.625,12106.135))\n",
        "new\n",
        "\n",
        "\n"
      ],
      "execution_count": null,
      "outputs": []
    },
    {
      "cell_type": "code",
      "metadata": {
        "trusted": true,
        "id": "fliNyBGIHQES"
      },
      "source": [
        "?predict.glm"
      ],
      "execution_count": null,
      "outputs": []
    },
    {
      "cell_type": "code",
      "metadata": {
        "trusted": true,
        "id": "xl7Nrh5SHQES"
      },
      "source": [
        "predict(mod1, new, type = \"response\")\n",
        "predict(mod1, type = \"response\")"
      ],
      "execution_count": null,
      "outputs": []
    },
    {
      "cell_type": "code",
      "metadata": {
        "trusted": true,
        "id": "R0zOpQbiHQET"
      },
      "source": [
        "pred_train <- predict(mod1, type = \"response\")"
      ],
      "execution_count": null,
      "outputs": []
    },
    {
      "cell_type": "code",
      "metadata": {
        "trusted": true,
        "id": "1-AwNXUQHQET"
      },
      "source": [
        "# Podemos analizar el desempeño de nuestro modelo fijando un punto de corte.\n",
        "clase_pred <- ifelse(pred_train > 0.1, \"Si\", \"No\")  "
      ],
      "execution_count": null,
      "outputs": []
    },
    {
      "cell_type": "code",
      "metadata": {
        "trusted": true,
        "id": "2N0qLv60HQET"
      },
      "source": [
        "table(clase_pred, data$default) # matriz de confusión"
      ],
      "execution_count": null,
      "outputs": []
    },
    {
      "cell_type": "markdown",
      "metadata": {
        "id": "DzCKSCNAHQET"
      },
      "source": [
        "## Odds ratios\n",
        "\n",
        "Una de las ventajas de la regresión logística, es que es un modelo del cual se pueden extraer conclusiones interesantes a partir de sus coeficientes. Concretamente, la exponencial de los \"beta\" asociados a la regresión logística, llamados \"odds ratios\" cuantifican el cambio en la chance, cuando la variable asociada a dicho coeficiente cambia de estado (o aumenta en una unidad)\n",
        "\n",
        "A modo de ejemplo, supongamos que estamos modelando la variable respuesta $Y$ (binaria) como función de la covariable $X$.\n",
        "\n",
        "Recordemos que lo que se modela linealmente corresponde al logaritmo de la chance $chance(x):=\\log\\left(\\dfrac{P(Y = 1 | X=x)}{1-P(Y = 1| X=x)}\\right)$, donde $P(Y = 1 | X=x)$ denota la _probablidad de obervar el evento de interés dado el valor_ $X = x$ _de nuestra covariable_, entonces:\n",
        "\n",
        "\n",
        "$$\n",
        "chance(x):= \\log\\left(\\dfrac{P(Y = 1 | X=x)}{1-P(Y = 1| X=x)}\\right) =  \\beta_0 + \\beta_1x \\ \\ \\ \\ \\ \\ \\ \\ \\ \\ (1) \n",
        "$$\n",
        "\n",
        "Consideremos ahora la chance de observar $Y = 1$ dado que $X=x+1$,\n",
        "$$\n",
        "chance(x+1) = \\beta_0 + \\beta_1(x+1) \\ \\ \\ \\ \\ \\ \\ \\ \\ \\ \\ \\ (2) \n",
        "$$\n",
        "\n",
        "Si restamos (2) - (1), se obtiene\n",
        "$$\n",
        "\\log\\left(\\dfrac{chance(x+1)}{chance(x)}\\right) = \\beta_1\n",
        "$$\n",
        "\n",
        "\n",
        "De donde podemos inferir que $\\exp(\\beta_1)$, corresponde al cambio en la chance de obervar $Y = 1$, cuando X aumenta en una unidad. La expresión $\\exp(\\beta_1)$, se conoce como razón de chances, o bien _odd ratio_ ."
      ]
    },
    {
      "cell_type": "code",
      "metadata": {
        "trusted": true,
        "id": "EcPF6dFxHQEU"
      },
      "source": [
        "# suponiendo que el modelo es un buen modelo, ¿Cómo podemos interpretar los coeficientes estimados?\n",
        "# ¿Cómo varia la chance de caer en default cuado se aumenta en una unidad el balance.?\n",
        "\n",
        "# la chance varía en un \n",
        "exp(5.737e-03)\n",
        "#la chance aumenta en un 0.5%, lo que es equivalente a decir que la chance de caer en default cuando el balance aumenta en 1, es 1.0057 veces la chance original."
      ],
      "execution_count": null,
      "outputs": []
    },
    {
      "cell_type": "code",
      "metadata": {
        "trusted": true,
        "id": "9QAgcNK8HQEU"
      },
      "source": [
        ""
      ],
      "execution_count": null,
      "outputs": []
    }
  ]
}